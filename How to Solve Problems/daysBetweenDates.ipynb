{
 "cells": [
  {
   "cell_type": "markdown",
   "metadata": {},
   "source": [
    "# Days Between Dates\n",
    "\n",
    "This lesson will focus on one problem: calculating the number of days between two dates. \n",
    "\n",
    "\n"
   ]
  },
  {
   "cell_type": "code",
   "execution_count": 2,
   "metadata": {},
   "outputs": [],
   "source": [
    "def isLeapYear(year):\n",
    "    \"\"\"if (year is not divisible by 4) then (it is a common year)\n",
    "    else if (year is not divisible by 100) then (it is a leap year)\n",
    "    else if (year is not divisible by 400) then (it is a common year)\n",
    "    else (it is a leap year)\n",
    "    \"\"\"\n",
    "    if year%400 == 0:\n",
    "        return True\n",
    "    if year%100 == 0:\n",
    "        return False\n",
    "    if year%4 == 0:\n",
    "        return True \n",
    "    return False\n",
    "    \n",
    "    \n",
    "def dateIsBefore(year1,month1,day1,year2,month2,day2):\n",
    "    \"\"\"Returns True if year1-month1-day1 is before\n",
    "    year2-month2-day2. Otherwise, return False.\"\"\"\n",
    "    if year1 < year2:\n",
    "        return True\n",
    "    if year1 == year2:\n",
    "        if month1 < month2:\n",
    "            return True\n",
    "        if month1 == month2:\n",
    "            return day1 < day2\n",
    "    return False\n",
    "\n",
    "def daysInMonth(year,month):\n",
    "    if month == 1 or month == 3 or month == 5 or month == 7 \\\n",
    "        or month == 8 or month == 10 or month == 12:\n",
    "        days = 31\n",
    "    elif month == 2:\n",
    "        if isLeapYear(year):\n",
    "            days = 29\n",
    "        else:\n",
    "            days = 28\n",
    "    else:\n",
    "        days = 30\n",
    "\n",
    "    return days\n",
    "def nextDay(year,month,day):\n",
    "    \"\"\"Naive version: assume every month has 30 days\"\"\"\n",
    "    if day < daysInMonth(year,month):\n",
    "        return year, month, day+1\n",
    "    else:\n",
    "        if month == 12:\n",
    "            return year+1, 1, 1\n",
    "        else:\n",
    "            return year,month+1,1\n",
    "\n",
    "def daysBetweenDates(year1, month1, day1, year2, month2, day2):\n",
    "    \"\"\"Returns the number of days between year1-month1-day1\n",
    "    and year2-month2-day2. Assumes inputs are valid dates in\n",
    "    Gergorian calender, and the first date is not after the\n",
    "    second.\"\"\"\n",
    "    # program defensively! Add an assertion if the input is not valid!\n",
    "    assert not dateIsBefore(year2,month2,day2,year1,month1,day1)\n",
    "    days = 0\n",
    "    while dateIsBefore(year1,month1,day1,year2,month2,day2):\n",
    "        year1,month1,day1 = nextDay(year1,month1,day1)\n",
    "        days += 1\n",
    "    return days"
   ]
  },
  {
   "cell_type": "code",
   "execution_count": 6,
   "metadata": {},
   "outputs": [
    {
     "data": {
      "text/plain": [
       "False"
      ]
     },
     "execution_count": 6,
     "metadata": {},
     "output_type": "execute_result"
    }
   ],
   "source": [
    "isLeapYear(2013)"
   ]
  },
  {
   "cell_type": "code",
   "execution_count": 10,
   "metadata": {},
   "outputs": [
    {
     "name": "stdout",
     "output_type": "stream",
     "text": [
      "Test Finished\n"
     ]
    }
   ],
   "source": [
    "def test30():\n",
    "    # tests with 30-day months!\n",
    "    assert daysBetweenDates(2013,1,1,2013,1,1) == 0\n",
    "    assert daysBetweenDates(2013,1,1,2013,1,2) == 1\n",
    "    assert nextDay(2013,1,1) == (2013,1,2)\n",
    "    assert nextDay(2013,4,30) == (2013,5,1)\n",
    "    assert nextDay(2012,12,31) == (2013,1,1)\n",
    "    assert nextDay(2013,2,28) == (2013,3,1)\n",
    "    assert nextDay(2013,9,30) == (2013,10,1)\n",
    "    assert daysBetweenDates(2012,1,1,2013,1,1) == 366\n",
    "    assert daysBetweenDates(2013,1,1,2014,1,1) == 365\n",
    "    assert daysBetweenDates(2013,1,24,2013,6,29) == 156\n",
    "    print(\"Test Finished\")\n",
    "test30()"
   ]
  },
  {
   "cell_type": "markdown",
   "metadata": {},
   "source": [
    "## Test Set 1"
   ]
  },
  {
   "cell_type": "code",
   "execution_count": null,
   "metadata": {},
   "outputs": [],
   "source": [
    "\n",
    "def testDaysBetweenDates():\n",
    "    \n",
    "    # test same day\n",
    "    assert(daysBetweenDates(2017, 12, 30,\n",
    "                              2017, 12, 30) == 0)\n",
    "    # test adjacent days\n",
    "    assert(daysBetweenDates(2017, 12, 30, \n",
    "                              2017, 12, 31) == 1)\n",
    "    # test new year\n",
    "    assert(daysBetweenDates(2017, 12, 30, \n",
    "                              2018, 1,  1)  == 2)\n",
    "    # test full year difference\n",
    "    assert(daysBetweenDates(2012, 6, 29,\n",
    "                              2013, 6, 29)  == 365)\n",
    "    \n",
    "    print(\"Congratulations! Your daysBetweenDates\")\n",
    "    print(\"function is working correctly!\")\n",
    "    \n",
    "testDaysBetweenDates()"
   ]
  },
  {
   "cell_type": "markdown",
   "metadata": {},
   "source": [
    "## Test Set 2"
   ]
  },
  {
   "cell_type": "code",
   "execution_count": 11,
   "metadata": {},
   "outputs": [
    {
     "name": "stdout",
     "output_type": "stream",
     "text": [
      "Test case passed!\n",
      "Test case passed!\n",
      "Test case passed!\n",
      "Test case passed!\n",
      "Test case passed!\n"
     ]
    }
   ],
   "source": [
    "def test():\n",
    "    test_cases = [((2012,1,1,2012,2,28), 58), \n",
    "                  ((2012,1,1,2012,3,1), 60),\n",
    "                  ((2011,6,30,2012,6,30), 366),\n",
    "                  ((2011,1,1,2012,8,8), 585 ),\n",
    "                  ((1900,1,1,1999,12,31), 36523)]\n",
    "    \n",
    "    for (args, answer) in test_cases:\n",
    "        result = daysBetweenDates(*args)\n",
    "        if result != answer:\n",
    "            print(\"Test with data:\", args, \"failed\")\n",
    "        else:\n",
    "            print(\"Test case passed!\")\n",
    "\n",
    "test()"
   ]
  },
  {
   "cell_type": "code",
   "execution_count": null,
   "metadata": {
    "collapsed": true
   },
   "outputs": [],
   "source": []
  }
 ],
 "metadata": {
  "kernelspec": {
   "display_name": "Python 3",
   "language": "python",
   "name": "python3"
  },
  "language_info": {
   "codemirror_mode": {
    "name": "ipython",
    "version": 3
   },
   "file_extension": ".py",
   "mimetype": "text/x-python",
   "name": "python",
   "nbconvert_exporter": "python",
   "pygments_lexer": "ipython3",
   "version": "3.6.3"
  }
 },
 "nbformat": 4,
 "nbformat_minor": 2
}
