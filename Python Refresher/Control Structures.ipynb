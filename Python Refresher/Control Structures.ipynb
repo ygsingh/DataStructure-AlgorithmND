{
 "cells": [
  {
   "cell_type": "markdown",
   "metadata": {},
   "source": [
    "# Control Structure Practice\n",
    "\n",
    "In the following exercise you will finish writing `smallest_positive` which is a function that finds the smallest positive number in a list.\n",
    "\n",
    "## Exercise 1"
   ]
  },
  {
   "cell_type": "code",
   "execution_count": 1,
   "metadata": {},
   "outputs": [],
   "source": [
    "def smallest_positive(in_list):\n",
    "    # Define a control structure that finds the smallest positive\n",
    "    # number in in_list and returns the correct smallest number.\n",
    "    smallest_pos = None\n",
    "    for num in in_list:\n",
    "        if num > 0:\n",
    "            # Note: we use a logical \"or\" in this solution to form \n",
    "            # the conditional statement, although this was\n",
    "            # not introduced above. \n",
    "            if smallest_pos == None or num < smallest_pos:\n",
    "                smallest_pos = num\n",
    "    return smallest_pos\n"
   ]
  },
  {
   "cell_type": "markdown",
   "metadata": {},
   "source": [
    "## Test Cases"
   ]
  },
  {
   "cell_type": "code",
   "execution_count": 2,
   "metadata": {},
   "outputs": [
    {
     "name": "stdout",
     "output_type": "stream",
     "text": [
      "2\n"
     ]
    }
   ],
   "source": [
    "print(smallest_positive([4, -6, 7, 2, -4, 10]))\n",
    "# Correct output: 2"
   ]
  },
  {
   "cell_type": "code",
   "execution_count": 3,
   "metadata": {},
   "outputs": [
    {
     "name": "stdout",
     "output_type": "stream",
     "text": [
      "0.2\n"
     ]
    }
   ],
   "source": [
    "print(smallest_positive([.2, 5, 3, -.1, 7, 7, 6]))\n",
    "# Correct output: 0.2"
   ]
  },
  {
   "cell_type": "code",
   "execution_count": 4,
   "metadata": {},
   "outputs": [
    {
     "name": "stdout",
     "output_type": "stream",
     "text": [
      "None\n"
     ]
    }
   ],
   "source": [
    "print(smallest_positive([-6, -9, -7]))\n",
    "# Correct output: None"
   ]
  },
  {
   "cell_type": "code",
   "execution_count": 5,
   "metadata": {},
   "outputs": [
    {
     "name": "stdout",
     "output_type": "stream",
     "text": [
      "None\n"
     ]
    }
   ],
   "source": [
    "print(smallest_positive([]))\n",
    "# Correct output: None"
   ]
  },
  {
   "cell_type": "markdown",
   "metadata": {},
   "source": [
    "## Exercise 2\n",
    "Now let's assume you are planning on taking some additional courses at your local educational institution, and you have acquired some data about the available courses and when they will be offered. In the following exercise, you will write control structures to process the data and return the semesters when a given course is offered.\n",
    "\n",
    "You will need to complete the function `when_offered(courses, course)`. This function accepts a \"courses\" data structure and a \"course\" string. The function should return a list of strings representing the semesters when the input course is offered. See the two test cases below for examples of correct results.\n",
    "\n",
    "Since the when_offered function accepts a dictionary data structure, you will find the\n",
    "\n",
    "```\n",
    "for <key> in <dictionary>:\n",
    "    <block>\n",
    "```\n",
    "construct useful, as this loops through the key values in a dictionary."
   ]
  },
  {
   "cell_type": "code",
   "execution_count": 9,
   "metadata": {},
   "outputs": [],
   "source": [
    "# This exercise uses a data structure that stores Udacity course information.\n",
    "# The data structure format is:\n",
    "\n",
    "#    { <semester>: { <class>: { <property>: <value>, ... },\n",
    "#                                     ... },\n",
    "#      ... }\n",
    "courses = {\n",
    "    'spring2020': { 'cs101': {'name': 'Building a Search Engine',\n",
    "                           'teacher': 'Dave',\n",
    "                           'assistant': 'Peter C.'},\n",
    "                 'cs373': {'name': 'Programming a Robotic Car',\n",
    "                           'teacher': 'Sebastian',\n",
    "                           'assistant': 'Andy'}},\n",
    "    'fall2020': { 'cs101': {'name': 'Building a Search Engine',\n",
    "                           'teacher': 'Dave',\n",
    "                           'assistant': 'Sarah'},\n",
    "                 'cs212': {'name': 'The Design of Computer Programs',\n",
    "                           'teacher': 'Peter N.',\n",
    "                           'assistant': 'Andy',\n",
    "                           'prereq': 'cs101'},\n",
    "                 'cs253': {'name': 'Web Application Engineering - Building a Blog',\n",
    "                           'teacher': 'Steve',\n",
    "                           'prereq': 'cs101'},\n",
    "                 'cs262': {'name': 'Programming Languages - Building a Web Browser',\n",
    "                           'teacher': 'Wes',\n",
    "                           'assistant': 'Peter C.',\n",
    "                           'prereq': 'cs101'},\n",
    "                 'cs373': {'name': 'Programming a Robotic Car',\n",
    "                           'teacher': 'Sebastian'},\n",
    "                 'cs387': {'name': 'Applied Cryptography',\n",
    "                           'teacher': 'Dave'}},\n",
    "    'spring2044': { 'cs001': {'name': 'Building a Quantum Holodeck',\n",
    "                           'teacher': 'Dorina'},\n",
    "                        'cs003': {'name': 'Programming a Robotic Robotics Teacher',\n",
    "                           'teacher': 'Jasper'},\n",
    "                     }\n",
    "    }"
   ]
  },
  {
   "cell_type": "code",
   "execution_count": 10,
   "metadata": {},
   "outputs": [],
   "source": [
    "# In this exercise, you will need to complete the function \n",
    "# when_offered(courses, course). This function accepts a \"courses\" \n",
    "# data structure and a \"course\" string. \n",
    "# The function should return a list of strings representing the semesters \n",
    "# when the input course is offered. See the two test cases below for examples \n",
    "# of correct results.\n",
    "\n",
    "\n",
    "def when_offered(courses, course):\n",
    "    # TODO: Fill out the function here.\n",
    "    semesters = []\n",
    "    for semester in courses:\n",
    "        if course in courses[semester]:\n",
    "            semesters.append(semester)\n",
    "    # TODO: Return list of semesters here.\n",
    "    return semesters"
   ]
  },
  {
   "cell_type": "markdown",
   "metadata": {},
   "source": [
    "## Test Cases"
   ]
  },
  {
   "cell_type": "code",
   "execution_count": 11,
   "metadata": {},
   "outputs": [
    {
     "name": "stdout",
     "output_type": "stream",
     "text": [
      "['spring2020', 'fall2020']\n"
     ]
    }
   ],
   "source": [
    "print(when_offered(courses, 'cs101'))\n",
    "# Correct result: \n",
    "# ['fall2020', 'spring2020']\n"
   ]
  },
  {
   "cell_type": "code",
   "execution_count": 12,
   "metadata": {},
   "outputs": [
    {
     "name": "stdout",
     "output_type": "stream",
     "text": [
      "[]\n"
     ]
    }
   ],
   "source": [
    "print(when_offered(courses, 'bio893'))\n",
    "# Correct result: \n",
    "# []\n"
   ]
  }
 ],
 "metadata": {
  "kernelspec": {
   "display_name": "Python 3",
   "language": "python",
   "name": "python3"
  },
  "language_info": {
   "codemirror_mode": {
    "name": "ipython",
    "version": 3
   },
   "file_extension": ".py",
   "mimetype": "text/x-python",
   "name": "python",
   "nbconvert_exporter": "python",
   "pygments_lexer": "ipython3",
   "version": "3.6.9"
  }
 },
 "nbformat": 4,
 "nbformat_minor": 2
}
